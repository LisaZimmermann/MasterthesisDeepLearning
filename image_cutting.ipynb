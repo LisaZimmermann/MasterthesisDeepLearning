{
 "cells": [
  {
   "cell_type": "code",
   "execution_count": 81,
   "metadata": {},
   "outputs": [],
   "source": [
    "from PIL import Image\n",
    "import os\n",
    "import math"
   ]
  },
  {
   "cell_type": "code",
   "execution_count": 82,
   "metadata": {},
   "outputs": [
    {
     "name": "stdout",
     "output_type": "stream",
     "text": [
      "['DSC00094.JPG', 'DSC00095.JPG']\n"
     ]
    }
   ],
   "source": [
    "#set correct path to given directory\n",
    "path=\"C://Users//Lisa//MasterthesisDeepLearning//images\"\n",
    "image_names = os.listdir(path)\n",
    "print(image_names)"
   ]
  },
  {
   "cell_type": "code",
   "execution_count": 89,
   "metadata": {},
   "outputs": [],
   "source": [
    "for i in image_names:\n",
    "    img=Image.open(path + \"//\" +i)\n",
    "    width, height = img.size\n",
    "    upper = 0\n",
    "    left = 0\n",
    "    height_slice = int(height/2)\n",
    "    width_slice = int(width/2)\n",
    "    upperleft = img.crop((left,upper,width_slice, height_slice))\n",
    "    upperright = img.crop((width_slice,upper,width, height_slice))\n",
    "    lowerleft = img.crop((left, height_slice, width_slice, height))\n",
    "    lowerright = img.crop((width_slice, height_slice, width, height))\n",
    "    \n",
    "    upperleft.save(path + \"//\"+ i[:-4] + \"_upperleft.jpg\")\n",
    "    upperright.save(path + \"//\" + i[:-4] + \"_upperright.jpg\")\n",
    "    lowerleft.save(path + \"//\" + i[:-4] + \"_lowerleft.jpg\")\n",
    "    lowerright.save(path + \"//\" + i[:-4] + \"_lowerright.jpg\")"
   ]
  },
  {
   "cell_type": "code",
   "execution_count": null,
   "metadata": {
    "collapsed": true
   },
   "outputs": [],
   "source": []
  },
  {
   "cell_type": "code",
   "execution_count": 68,
   "metadata": {
    "collapsed": true
   },
   "outputs": [],
   "source": []
  },
  {
   "cell_type": "code",
   "execution_count": 72,
   "metadata": {},
   "outputs": [],
   "source": []
  },
  {
   "cell_type": "code",
   "execution_count": 77,
   "metadata": {
    "collapsed": true
   },
   "outputs": [],
   "source": []
  },
  {
   "cell_type": "code",
   "execution_count": null,
   "metadata": {},
   "outputs": [],
   "source": []
  },
  {
   "cell_type": "code",
   "execution_count": 65,
   "metadata": {
    "collapsed": true
   },
   "outputs": [],
   "source": []
  },
  {
   "cell_type": "code",
   "execution_count": null,
   "metadata": {
    "collapsed": true
   },
   "outputs": [],
   "source": []
  }
 ],
 "metadata": {
  "kernelspec": {
   "display_name": "Python 3",
   "language": "python",
   "name": "python3"
  }
 },
 "nbformat": 4,
 "nbformat_minor": 2
}
